{
 "cells": [
  {
   "cell_type": "code",
   "execution_count": 4,
   "metadata": {},
   "outputs": [],
   "source": [
    "import pandas as pd"
   ]
  },
  {
   "cell_type": "code",
   "execution_count": 5,
   "metadata": {},
   "outputs": [],
   "source": [
    "data = pd.read_csv('datasets/ADNI1_Complete_1Yr_1.5T_11_04_2020.csv')"
   ]
  },
  {
   "cell_type": "code",
   "execution_count": 6,
   "metadata": {},
   "outputs": [
    {
     "data": {
      "text/html": [
       "<div>\n",
       "<style scoped>\n",
       "    .dataframe tbody tr th:only-of-type {\n",
       "        vertical-align: middle;\n",
       "    }\n",
       "\n",
       "    .dataframe tbody tr th {\n",
       "        vertical-align: top;\n",
       "    }\n",
       "\n",
       "    .dataframe thead th {\n",
       "        text-align: right;\n",
       "    }\n",
       "</style>\n",
       "<table border=\"1\" class=\"dataframe\">\n",
       "  <thead>\n",
       "    <tr style=\"text-align: right;\">\n",
       "      <th></th>\n",
       "      <th>Image Data ID</th>\n",
       "      <th>Subject</th>\n",
       "      <th>Group</th>\n",
       "      <th>Sex</th>\n",
       "      <th>Age</th>\n",
       "      <th>Visit</th>\n",
       "      <th>Modality</th>\n",
       "      <th>Description</th>\n",
       "      <th>Type</th>\n",
       "      <th>Acq Date</th>\n",
       "      <th>Format</th>\n",
       "      <th>Downloaded</th>\n",
       "    </tr>\n",
       "  </thead>\n",
       "  <tbody>\n",
       "    <tr>\n",
       "      <th>0</th>\n",
       "      <td>I64025</td>\n",
       "      <td>002_S_0295</td>\n",
       "      <td>CN</td>\n",
       "      <td>M</td>\n",
       "      <td>86</td>\n",
       "      <td>4</td>\n",
       "      <td>MRI</td>\n",
       "      <td>MPR; GradWarp; B1 Correction; N3; Scaled</td>\n",
       "      <td>Processed</td>\n",
       "      <td>5/25/2007</td>\n",
       "      <td>NiFTI</td>\n",
       "      <td>10/20/2020</td>\n",
       "    </tr>\n",
       "    <tr>\n",
       "      <th>1</th>\n",
       "      <td>I40966</td>\n",
       "      <td>002_S_0295</td>\n",
       "      <td>CN</td>\n",
       "      <td>M</td>\n",
       "      <td>85</td>\n",
       "      <td>3</td>\n",
       "      <td>MRI</td>\n",
       "      <td>MPR; GradWarp; B1 Correction; N3; Scaled</td>\n",
       "      <td>Processed</td>\n",
       "      <td>11/02/2006</td>\n",
       "      <td>NiFTI</td>\n",
       "      <td>10/20/2020</td>\n",
       "    </tr>\n",
       "    <tr>\n",
       "      <th>2</th>\n",
       "      <td>I118692</td>\n",
       "      <td>002_S_0295</td>\n",
       "      <td>CN</td>\n",
       "      <td>M</td>\n",
       "      <td>85</td>\n",
       "      <td>3</td>\n",
       "      <td>MRI</td>\n",
       "      <td>MPR; GradWarp; B1 Correction; N3; Scaled_2</td>\n",
       "      <td>Processed</td>\n",
       "      <td>11/02/2006</td>\n",
       "      <td>NiFTI</td>\n",
       "      <td>10/20/2020</td>\n",
       "    </tr>\n",
       "    <tr>\n",
       "      <th>3</th>\n",
       "      <td>I45108</td>\n",
       "      <td>002_S_0295</td>\n",
       "      <td>CN</td>\n",
       "      <td>M</td>\n",
       "      <td>85</td>\n",
       "      <td>1</td>\n",
       "      <td>MRI</td>\n",
       "      <td>MPR; GradWarp; B1 Correction; N3; Scaled</td>\n",
       "      <td>Processed</td>\n",
       "      <td>4/18/2006</td>\n",
       "      <td>NiFTI</td>\n",
       "      <td>10/20/2020</td>\n",
       "    </tr>\n",
       "    <tr>\n",
       "      <th>4</th>\n",
       "      <td>I118671</td>\n",
       "      <td>002_S_0295</td>\n",
       "      <td>CN</td>\n",
       "      <td>M</td>\n",
       "      <td>85</td>\n",
       "      <td>1</td>\n",
       "      <td>MRI</td>\n",
       "      <td>MPR; GradWarp; B1 Correction; N3; Scaled_2</td>\n",
       "      <td>Processed</td>\n",
       "      <td>4/18/2006</td>\n",
       "      <td>NiFTI</td>\n",
       "      <td>10/20/2020</td>\n",
       "    </tr>\n",
       "  </tbody>\n",
       "</table>\n",
       "</div>"
      ],
      "text/plain": [
       "  Image Data ID     Subject Group Sex  Age  Visit Modality  \\\n",
       "0        I64025  002_S_0295    CN   M   86      4      MRI   \n",
       "1        I40966  002_S_0295    CN   M   85      3      MRI   \n",
       "2       I118692  002_S_0295    CN   M   85      3      MRI   \n",
       "3        I45108  002_S_0295    CN   M   85      1      MRI   \n",
       "4       I118671  002_S_0295    CN   M   85      1      MRI   \n",
       "\n",
       "                                  Description       Type    Acq Date Format  \\\n",
       "0    MPR; GradWarp; B1 Correction; N3; Scaled  Processed   5/25/2007  NiFTI   \n",
       "1    MPR; GradWarp; B1 Correction; N3; Scaled  Processed  11/02/2006  NiFTI   \n",
       "2  MPR; GradWarp; B1 Correction; N3; Scaled_2  Processed  11/02/2006  NiFTI   \n",
       "3    MPR; GradWarp; B1 Correction; N3; Scaled  Processed   4/18/2006  NiFTI   \n",
       "4  MPR; GradWarp; B1 Correction; N3; Scaled_2  Processed   4/18/2006  NiFTI   \n",
       "\n",
       "   Downloaded  \n",
       "0  10/20/2020  \n",
       "1  10/20/2020  \n",
       "2  10/20/2020  \n",
       "3  10/20/2020  \n",
       "4  10/20/2020  "
      ]
     },
     "execution_count": 6,
     "metadata": {},
     "output_type": "execute_result"
    }
   ],
   "source": [
    "data.head()"
   ]
  },
  {
   "cell_type": "code",
   "execution_count": 7,
   "metadata": {},
   "outputs": [
    {
     "data": {
      "text/plain": [
       "(2294, 12)"
      ]
     },
     "execution_count": 7,
     "metadata": {},
     "output_type": "execute_result"
    }
   ],
   "source": [
    "data.shape"
   ]
  },
  {
   "cell_type": "code",
   "execution_count": 8,
   "metadata": {},
   "outputs": [
    {
     "name": "stdout",
     "output_type": "stream",
     "text": [
      "<class 'pandas.core.frame.DataFrame'>\n",
      "RangeIndex: 2294 entries, 0 to 2293\n",
      "Data columns (total 12 columns):\n",
      " #   Column         Non-Null Count  Dtype \n",
      "---  ------         --------------  ----- \n",
      " 0   Image Data ID  2294 non-null   object\n",
      " 1   Subject        2294 non-null   object\n",
      " 2   Group          2294 non-null   object\n",
      " 3   Sex            2294 non-null   object\n",
      " 4   Age            2294 non-null   int64 \n",
      " 5   Visit          2294 non-null   int64 \n",
      " 6   Modality       2294 non-null   object\n",
      " 7   Description    2294 non-null   object\n",
      " 8   Type           2294 non-null   object\n",
      " 9   Acq Date       2294 non-null   object\n",
      " 10  Format         2294 non-null   object\n",
      " 11  Downloaded     2294 non-null   object\n",
      "dtypes: int64(2), object(10)\n",
      "memory usage: 215.2+ KB\n"
     ]
    }
   ],
   "source": [
    "data.info()"
   ]
  },
  {
   "cell_type": "code",
   "execution_count": 15,
   "metadata": {},
   "outputs": [
    {
     "data": {
      "text/html": [
       "<div>\n",
       "<style scoped>\n",
       "    .dataframe tbody tr th:only-of-type {\n",
       "        vertical-align: middle;\n",
       "    }\n",
       "\n",
       "    .dataframe tbody tr th {\n",
       "        vertical-align: top;\n",
       "    }\n",
       "\n",
       "    .dataframe thead th {\n",
       "        text-align: right;\n",
       "    }\n",
       "</style>\n",
       "<table border=\"1\" class=\"dataframe\">\n",
       "  <thead>\n",
       "    <tr style=\"text-align: right;\">\n",
       "      <th></th>\n",
       "      <th>Image Data ID</th>\n",
       "      <th>Subject</th>\n",
       "      <th>Group</th>\n",
       "      <th>Sex</th>\n",
       "      <th>Age</th>\n",
       "      <th>Visit</th>\n",
       "      <th>Modality</th>\n",
       "      <th>Description</th>\n",
       "      <th>Type</th>\n",
       "      <th>Acq Date</th>\n",
       "      <th>Format</th>\n",
       "      <th>Downloaded</th>\n",
       "    </tr>\n",
       "  </thead>\n",
       "  <tbody>\n",
       "    <tr>\n",
       "      <th>1500</th>\n",
       "      <td>I39881</td>\n",
       "      <td>073_S_0312</td>\n",
       "      <td>CN</td>\n",
       "      <td>M</td>\n",
       "      <td>83</td>\n",
       "      <td>1</td>\n",
       "      <td>MRI</td>\n",
       "      <td>MPR; GradWarp; B1 Correction; N3; Scaled</td>\n",
       "      <td>Processed</td>\n",
       "      <td>5/31/2006</td>\n",
       "      <td>NiFTI</td>\n",
       "      <td>10/19/2020</td>\n",
       "    </tr>\n",
       "    <tr>\n",
       "      <th>1501</th>\n",
       "      <td>I72481</td>\n",
       "      <td>073_S_0312</td>\n",
       "      <td>CN</td>\n",
       "      <td>M</td>\n",
       "      <td>84</td>\n",
       "      <td>3</td>\n",
       "      <td>MRI</td>\n",
       "      <td>MPR; GradWarp; B1 Correction; N3; Scaled</td>\n",
       "      <td>Processed</td>\n",
       "      <td>2/08/2007</td>\n",
       "      <td>NiFTI</td>\n",
       "      <td>10/20/2020</td>\n",
       "    </tr>\n",
       "    <tr>\n",
       "      <th>1502</th>\n",
       "      <td>I72494</td>\n",
       "      <td>073_S_0312</td>\n",
       "      <td>CN</td>\n",
       "      <td>M</td>\n",
       "      <td>84</td>\n",
       "      <td>4</td>\n",
       "      <td>MRI</td>\n",
       "      <td>MPR-R; GradWarp; B1 Correction; N3; Scaled</td>\n",
       "      <td>Processed</td>\n",
       "      <td>7/05/2007</td>\n",
       "      <td>NiFTI</td>\n",
       "      <td>10/20/2020</td>\n",
       "    </tr>\n",
       "    <tr>\n",
       "      <th>1503</th>\n",
       "      <td>I119230</td>\n",
       "      <td>073_S_0312</td>\n",
       "      <td>CN</td>\n",
       "      <td>M</td>\n",
       "      <td>83</td>\n",
       "      <td>1</td>\n",
       "      <td>MRI</td>\n",
       "      <td>MPR; GradWarp; B1 Correction; N3; Scaled_2</td>\n",
       "      <td>Processed</td>\n",
       "      <td>5/31/2006</td>\n",
       "      <td>NiFTI</td>\n",
       "      <td>11/04/2020</td>\n",
       "    </tr>\n",
       "  </tbody>\n",
       "</table>\n",
       "</div>"
      ],
      "text/plain": [
       "     Image Data ID     Subject Group Sex  Age  Visit Modality  \\\n",
       "1500        I39881  073_S_0312    CN   M   83      1      MRI   \n",
       "1501        I72481  073_S_0312    CN   M   84      3      MRI   \n",
       "1502        I72494  073_S_0312    CN   M   84      4      MRI   \n",
       "1503       I119230  073_S_0312    CN   M   83      1      MRI   \n",
       "\n",
       "                                     Description       Type   Acq Date Format  \\\n",
       "1500    MPR; GradWarp; B1 Correction; N3; Scaled  Processed  5/31/2006  NiFTI   \n",
       "1501    MPR; GradWarp; B1 Correction; N3; Scaled  Processed  2/08/2007  NiFTI   \n",
       "1502  MPR-R; GradWarp; B1 Correction; N3; Scaled  Processed  7/05/2007  NiFTI   \n",
       "1503  MPR; GradWarp; B1 Correction; N3; Scaled_2  Processed  5/31/2006  NiFTI   \n",
       "\n",
       "      Downloaded  \n",
       "1500  10/19/2020  \n",
       "1501  10/20/2020  \n",
       "1502  10/20/2020  \n",
       "1503  11/04/2020  "
      ]
     },
     "execution_count": 15,
     "metadata": {},
     "output_type": "execute_result"
    }
   ],
   "source": [
    "data[data['Subject'] == '073_S_0312']"
   ]
  },
  {
   "cell_type": "code",
   "execution_count": 10,
   "metadata": {},
   "outputs": [
    {
     "data": {
      "text/plain": [
       "'002_S_0295'"
      ]
     },
     "execution_count": 10,
     "metadata": {},
     "output_type": "execute_result"
    }
   ],
   "source": [
    "data.loc[1, 'Subject']"
   ]
  },
  {
   "cell_type": "code",
   "execution_count": 19,
   "metadata": {},
   "outputs": [],
   "source": [
    "for i, n in zip(data['Subject'], data['Group']):\n",
    "    new = i+n\n",
    "    break"
   ]
  },
  {
   "cell_type": "code",
   "execution_count": 20,
   "metadata": {},
   "outputs": [
    {
     "data": {
      "text/plain": [
       "'002_S_0295CN'"
      ]
     },
     "execution_count": 20,
     "metadata": {},
     "output_type": "execute_result"
    }
   ],
   "source": [
    "new"
   ]
  }
 ],
 "metadata": {
  "kernelspec": {
   "display_name": "Python 3",
   "language": "python",
   "name": "python3"
  },
  "language_info": {
   "codemirror_mode": {
    "name": "ipython",
    "version": 3
   },
   "file_extension": ".py",
   "mimetype": "text/x-python",
   "name": "python",
   "nbconvert_exporter": "python",
   "pygments_lexer": "ipython3",
   "version": "3.8.3"
  }
 },
 "nbformat": 4,
 "nbformat_minor": 4
}

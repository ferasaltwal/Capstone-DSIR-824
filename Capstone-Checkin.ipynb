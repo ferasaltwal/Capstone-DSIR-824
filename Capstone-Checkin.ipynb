{
 "cells": [
  {
   "cell_type": "markdown",
   "metadata": {},
   "source": [
    "## Problem statement:\n",
    "Help physicians identify AD stage with more accuracy using brain images"
   ]
  },
  {
   "cell_type": "markdown",
   "metadata": {},
   "source": [
    "## Dataset:\n",
    "\n",
    "Application was accepted to access ADNI dataset!\n",
    "\n",
    "**Pros:**\n",
    "- Huge dataset, contains several modalities (MRI, PET, blood work, cognitive assessment)\n",
    "\n",
    "**Cons:**\n",
    "- The organization of the data is not very clear on the website\n",
    "- Images are in DCIM or NIfTI format..needs to be preprocessed\n",
    "\n",
    "I found a library online that converts .nii to png. Now I need to write a code that automates that process for all images."
   ]
  },
  {
   "cell_type": "markdown",
   "metadata": {},
   "source": [
    "## Model:\n",
    "\n",
    "CNN:\n",
    "- 2D or 3D?"
   ]
  },
  {
   "cell_type": "code",
   "execution_count": null,
   "metadata": {},
   "outputs": [],
   "source": []
  }
 ],
 "metadata": {
  "kernelspec": {
   "display_name": "Python 3",
   "language": "python",
   "name": "python3"
  },
  "language_info": {
   "codemirror_mode": {
    "name": "ipython",
    "version": 3
   },
   "file_extension": ".py",
   "mimetype": "text/x-python",
   "name": "python",
   "nbconvert_exporter": "python",
   "pygments_lexer": "ipython3",
   "version": "3.8.3"
  }
 },
 "nbformat": 4,
 "nbformat_minor": 4
}

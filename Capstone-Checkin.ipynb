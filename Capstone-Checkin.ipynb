{
 "cells": [
  {
   "cell_type": "markdown",
   "metadata": {},
   "source": [
    "## Problem statement:\n",
    "Help physicians identify Alzheimer's Disease stage with more accuracy using brain images"
   ]
  },
  {
   "cell_type": "markdown",
   "metadata": {},
   "source": [
    "## Dataset:\n",
    "\n",
    "Application was accepted to access ADNI dataset!\n",
    "\n",
    "**Pros:**\n",
    "- Huge dataset, contains several modalities (MRI, PET, blood work, cognitive assessment)\n",
    "\n",
    "**Cons:**\n",
    "- The organization of the data is not very clear on the website\n",
    "- Images are in DCIM or NIfTI format..needs to be preprocessed\n",
    "\n",
    "I found a library online that converts .nii to png. Now I need to write a code that automates that process for all images."
   ]
  },
  {
   "cell_type": "markdown",
   "metadata": {},
   "source": [
    "## Model:\n",
    "\n",
    "CNN:\n",
    "- 2D or 3D?"
   ]
  },
  {
   "cell_type": "markdown",
   "metadata": {},
   "source": [
    "## Metrics\n",
    "Accuracy, precision, sensitivity "
   ]
  },
  {
   "cell_type": "markdown",
   "metadata": {},
   "source": [
    "## Challenges:\n",
    "\n",
    "This project can get complicated, especially that there is a lot of data for it and different modalities (MRI, PET, blood work, cognitive assessments,..etc). \n",
    "\n",
    "**plan to overcome these challenges**\n",
    "- Start with a small set of data and build a working model\n",
    "- Use only 1 or 2 modalities as inputs, then in the future I can add more modalities to improve my predictive model"
   ]
  },
  {
   "cell_type": "markdown",
   "metadata": {},
   "source": [
    "## What I have done for now:\n",
    "\n",
    "started preprocessing the iamges.\n",
    "\n",
    "The brain images provided by ADNI are in DCIM or NIfTI formats and needs to be converted into images. I started the process and found a library to convert NIfTI to png. The library was outdated so I modified it a bit in order to run."
   ]
  },
  {
   "cell_type": "code",
   "execution_count": null,
   "metadata": {},
   "outputs": [],
   "source": []
  }
 ],
 "metadata": {
  "kernelspec": {
   "display_name": "Python 3",
   "language": "python",
   "name": "python3"
  },
  "language_info": {
   "codemirror_mode": {
    "name": "ipython",
    "version": 3
   },
   "file_extension": ".py",
   "mimetype": "text/x-python",
   "name": "python",
   "nbconvert_exporter": "python",
   "pygments_lexer": "ipython3",
   "version": "3.8.3"
  }
 },
 "nbformat": 4,
 "nbformat_minor": 4
}

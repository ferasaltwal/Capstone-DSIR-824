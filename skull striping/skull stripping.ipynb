{
 "cells": [
  {
   "cell_type": "code",
   "execution_count": 4,
   "metadata": {},
   "outputs": [],
   "source": [
    "import os\n",
    "import nipype\n",
    "import nipype.interfaces.fsl as fsl"
   ]
  },
  {
   "cell_type": "code",
   "execution_count": null,
   "metadata": {},
   "outputs": [],
   "source": [
    "# pip install nipype"
   ]
  },
  {
   "cell_type": "code",
   "execution_count": 49,
   "metadata": {},
   "outputs": [],
   "source": [
    "raw_data_path = '/Users/ferasaltwal/Documents/DSI/Capstone/AD_raw'                                                                                                                 #path to raw image directory\n",
    "ssdata_dir = '/Users/ferasaltwal/Documents/DSI/Capstone/skull_stripped_output'"
   ]
  },
  {
   "cell_type": "code",
   "execution_count": 51,
   "metadata": {},
   "outputs": [
    {
     "name": "stdout",
     "output_type": "stream",
     "text": [
      "201109-12:08:09,830 nipype.interface WARNING:\n",
      "\t FSLOUTPUTTYPE environment variable is not set. Setting FSLOUTPUTTYPE=NIFTI\n",
      "ADNI_002_S_0295_MR_MPR__GradWarp__B1_Correction__N3__Scaled_Br_20070802163833409_S32678_I64025.niiis not skull stripped\n"
     ]
    }
   ],
   "source": [
    "for file in os.listdir(raw_data_path):\n",
    "    if file != \".DS_Store\":\n",
    "        try:\n",
    "            mybet = nipype.interfaces.fsl.BET(in_file=os.path.join(raw_data_path,file),out_file=os.path.join(ssdata_dir,file +'_2.nii'), frac=0.2)                #frac=0.2\n",
    "            mybet.run()                                                                                                                                      #executing the brain extraction\n",
    "            print(file+'is skull stripped')\n",
    "        except:\n",
    "            print(file+'is not skull stripped')"
   ]
  },
  {
   "cell_type": "code",
   "execution_count": null,
   "metadata": {},
   "outputs": [],
   "source": []
  },
  {
   "cell_type": "code",
   "execution_count": null,
   "metadata": {},
   "outputs": [],
   "source": []
  }
 ],
 "metadata": {
  "kernelspec": {
   "display_name": "Python 3",
   "language": "python",
   "name": "python3"
  },
  "language_info": {
   "codemirror_mode": {
    "name": "ipython",
    "version": 3
   },
   "file_extension": ".py",
   "mimetype": "text/x-python",
   "name": "python",
   "nbconvert_exporter": "python",
   "pygments_lexer": "ipython3",
   "version": "3.8.3"
  }
 },
 "nbformat": 4,
 "nbformat_minor": 4
}
